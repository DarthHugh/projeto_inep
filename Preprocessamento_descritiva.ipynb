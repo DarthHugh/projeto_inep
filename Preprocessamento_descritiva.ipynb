{
  "nbformat": 4,
  "nbformat_minor": 0,
  "metadata": {
    "colab": {
      "name": "Preprocessamento_descritiva.ipynb",
      "provenance": [],
      "toc_visible": true
    },
    "kernelspec": {
      "display_name": "Python 3",
      "language": "python",
      "name": "python3"
    },
    "language_info": {
      "codemirror_mode": {
        "name": "ipython",
        "version": 3
      },
      "file_extension": ".py",
      "mimetype": "text/x-python",
      "name": "python",
      "nbconvert_exporter": "python",
      "pygments_lexer": "ipython3",
      "version": "3.8.8"
    }
  },
  "cells": [
    {
      "cell_type": "markdown",
      "metadata": {
        "id": "9-IrkxSDUk9i"
      },
      "source": [
        "#Pré processamento\n"
      ]
    },
    {
      "cell_type": "code",
      "metadata": {
        "id": "ZioqHegrAJKe"
      },
      "source": [
        "# instalar as dependências\n",
        "!apt-get install openjdk-8-jdk-headless -qq > /dev/null\n",
        "!wget -q https://archive.apache.org/dist/spark/spark-2.4.4/spark-2.4.4-bin-hadoop2.7.tgz\n",
        "!tar xf spark-2.4.4-bin-hadoop2.7.tgz\n",
        "!pip install -q findspark"
      ],
      "execution_count": null,
      "outputs": []
    },
    {
      "cell_type": "code",
      "metadata": {
        "id": "ObQopCO-Achh"
      },
      "source": [
        "# configurar as variáveis de ambiente\n",
        "import os\n",
        "os.environ[\"JAVA_HOME\"] = \"/usr/lib/jvm/java-8-openjdk-amd64\"\n",
        "os.environ[\"SPARK_HOME\"] = \"/content/spark-2.4.4-bin-hadoop2.7\"\n",
        " \n",
        "# tornar o pyspark \"importável\"\n",
        "import findspark\n",
        "findspark.init('spark-2.4.4-bin-hadoop2.7')"
      ],
      "execution_count": null,
      "outputs": []
    },
    {
      "cell_type": "code",
      "metadata": {
        "id": "x8dqNXsRAe7S"
      },
      "source": [
        "from google.colab import drive\n",
        "drive.mount('/content/drive')"
      ],
      "execution_count": null,
      "outputs": []
    },
    {
      "cell_type": "code",
      "metadata": {
        "id": "3QRFqdAdAjPE"
      },
      "source": [
        "# iniciar uma sessão local e importar dados \n",
        "from pyspark.sql import SparkSession\n",
        "from pyspark.sql.functions import regexp_replace\n",
        "\n",
        "sc = SparkSession.builder.master('local[*]').getOrCreate()\n",
        " \n",
        "#df_texto_linha = sc.read.options(delimiter=';').csv(\"divulgacao_anos_finais_escolas_2019.csv\", inferSchema=True, header=True)\n",
        "df_escola = sc.read.options(delimiter='\\t').csv(\"/content/drive/MyDrive/Poli/GRUPO_ATIVIDADES_POLI/PROJETO CIÊNCIA DE DADOS/bases tratadas/clean_divulgacao_anos_finais_escolas_2019.csv\", inferSchema=True, header=True)\n",
        "df_aluno_17 = sc.read.options(delimiter=',').csv(\"/content/drive/MyDrive/Poli/GRUPO_ATIVIDADES_POLI/PROJETO CIÊNCIA DE DADOS/SAEB 2017/TS_ALUNO_9EF.csv\", inferSchema=True, header=True)\n",
        "df_aluno_15 = sc.read.options(delimiter=',').csv(\"/content/drive/MyDrive/Poli/GRUPO_ATIVIDADES_POLI/PROJETO CIÊNCIA DE DADOS/SAEB 2015/TS_ALUNO_9EF.csv\", inferSchema=True, header=True)"
      ],
      "execution_count": null,
      "outputs": []
    },
    {
      "cell_type": "code",
      "metadata": {
        "id": "4JN6wxh7CC7K"
      },
      "source": [
        "df_join_17 = df_aluno_17.join(df_escola, df_escola.cod_escola == df_aluno_17.ID_ESCOLA, 'inner')\n",
        "#df_join_17.repartition(1).write.mode('overwrite').option(\"sep\",\"\\t\").option(\"header\", \"true\").csv('/content/drive/MyDrive/Poli/GRUPO_ATIVIDADES_POLI/PROJETO CIÊNCIA DE DADOS/bases tratadas/join_aluno_escola_saeb_2017')"
      ],
      "execution_count": null,
      "outputs": []
    },
    {
      "cell_type": "code",
      "metadata": {
        "id": "5g9b5h34FqQC"
      },
      "source": [
        "import pandas as pd\n",
        "import numpy as np\n",
        "import matplotlib.pyplot as plt\n",
        "import statistics as st"
      ],
      "execution_count": null,
      "outputs": []
    },
    {
      "cell_type": "markdown",
      "metadata": {
        "id": "fkD9TZMXnl9W"
      },
      "source": [
        "## Base SAEP alunos nono ano 2017"
      ]
    },
    {
      "cell_type": "code",
      "metadata": {
        "id": "N4-VkOQWqmPZ"
      },
      "source": [
        "from google.colab import drive\n",
        "drive.mount('/content/drive')"
      ],
      "execution_count": null,
      "outputs": []
    },
    {
      "cell_type": "code",
      "metadata": {
        "id": "Dl6sv0y6F-G5",
        "scrolled": true
      },
      "source": [
        "#df = pd.read_csv(\"/content/drive/MyDrive/UPE/Projeto Ciência de Dados/dataset/join_aluno_escola_saeb_2017.csv\",  sep='\\t', decimal=\".\")\n",
        "#df.head(3)"
      ],
      "execution_count": null,
      "outputs": []
    },
    {
      "cell_type": "code",
      "metadata": {
        "scrolled": true,
        "id": "H1_ffiCsnl9c"
      },
      "source": [
        "df_selecionadas_2017 = df_join_17[['ID_ALUNO','ID_REGIAO', 'ID_UF', 'ID_AREA', 'ID_DEPENDENCIA_ADM','ID_LOCALIZACAO', 'ID_TURNO',\n",
        "                            'PROFICIENCIA_MT_SAEB', 'PROFICIENCIA_LP_SAEB',\n",
        "                            'TX_RESP_Q002',\n",
        "                            'TX_RESP_Q018',\n",
        "                            'TX_RESP_Q022',\n",
        "                            'TX_RESP_Q019',\n",
        "                            'TX_RESP_Q023',\n",
        "                            'TX_RESP_Q031',\n",
        "                            'TX_RESP_Q027',\n",
        "                            'TX_RESP_Q028',\n",
        "                            'TX_RESP_Q030',\n",
        "                            'TX_RESP_Q026',\n",
        "                            'TX_RESP_Q017',\n",
        "                            'TX_RESP_Q013',\n",
        "                            'TX_RESP_Q011',\n",
        "                            'TX_RESP_Q046',\n",
        "                            'TX_RESP_Q048',\n",
        "                            'TX_RESP_Q049',\n",
        "                            'TX_RESP_Q044',\n",
        "                            'TX_RESP_Q045',\n",
        "                            'TX_RESP_Q033',\n",
        "                            'TX_RESP_Q036', 'TX_RESP_Q057']]\n",
        "#df_selecionadas_2017\n"
      ],
      "execution_count": null,
      "outputs": []
    },
    {
      "cell_type": "code",
      "metadata": {
        "scrolled": false,
        "id": "HQmhgY0Lnl9f"
      },
      "source": [
        "df_selecionadas_2017[\"PROFICIENCIA_MEDIA\"] = df_selecionadas_2017[[\"PROFICIENCIA_MT_SAEB\", \"PROFICIENCIA_LP_SAEB\"]].mean(axis = 1)"
      ],
      "execution_count": null,
      "outputs": []
    },
    {
      "cell_type": "markdown",
      "metadata": {
        "id": "3NK7qOicnl9h"
      },
      "source": [
        "## Retirando valores nulos na proeficiencia (significa que o aluno faltou a prova)"
      ]
    },
    {
      "cell_type": "code",
      "metadata": {
        "id": "olO7Kx1jnl9i"
      },
      "source": [
        "##Valores NA##\n",
        "#df_selecionadas_2017.isnull().sum()\n"
      ],
      "execution_count": null,
      "outputs": []
    },
    {
      "cell_type": "code",
      "metadata": {
        "id": "YMqdazqVnl9k"
      },
      "source": [
        "df_selecionadas_2017 = df_selecionadas_2017.dropna(subset=[\"PROFICIENCIA_MEDIA\"])\n"
      ],
      "execution_count": null,
      "outputs": []
    },
    {
      "cell_type": "code",
      "metadata": {
        "scrolled": false,
        "id": "BJpTMzhPnl9m"
      },
      "source": [
        "#df_selecionadas_2017.isnull().sum()"
      ],
      "execution_count": null,
      "outputs": []
    },
    {
      "cell_type": "markdown",
      "metadata": {
        "id": "aDc2dP1Gnl9n"
      },
      "source": [
        "## Filtros de remocao "
      ]
    },
    {
      "cell_type": "code",
      "metadata": {
        "id": "FhpW3Hlinl9o"
      },
      "source": [
        "# removendo as escolas federais da base\n",
        "\n",
        "print(df_selecionadas_2017.groupby('ID_DEPENDENCIA_ADM').size())\n",
        "\n",
        "filtro = df_selecionadas_2017['ID_DEPENDENCIA_ADM'] != 1\n",
        "\n",
        "df_selecionadas_2017 = df_selecionadas_2017[filtro]\n",
        "\n",
        "print(df_selecionadas_2017.groupby('ID_DEPENDENCIA_ADM').size())"
      ],
      "execution_count": null,
      "outputs": []
    },
    {
      "cell_type": "code",
      "metadata": {
        "id": "BA2KXzg2nl9p"
      },
      "source": [
        "# retirada do turno da noite\n",
        "\n",
        "print(df_selecionadas_2017.groupby('ID_TURNO').size())\n",
        "\n",
        "filtro = df_selecionadas_2017['ID_TURNO'] != 3\n",
        "\n",
        "df_selecionadas_2017 = df_selecionadas_2017[filtro]\n",
        "\n",
        "print(df_selecionadas_2017.groupby('ID_TURNO').size())\n",
        "\n"
      ],
      "execution_count": null,
      "outputs": []
    },
    {
      "cell_type": "markdown",
      "metadata": {
        "id": "vA0yjwfot0Pb"
      },
      "source": [
        "## Preenchendo NA com a moda"
      ]
    },
    {
      "cell_type": "code",
      "metadata": {
        "id": "2oUWESGF1bKP"
      },
      "source": [
        "df_selecionadas_2017.isnull().sum()"
      ],
      "execution_count": null,
      "outputs": []
    },
    {
      "cell_type": "code",
      "metadata": {
        "id": "lHL0sJKWnl9q"
      },
      "source": [
        "moda=st.mode(df_selecionadas_2017['TX_RESP_Q002'])\n",
        "df_selecionadas_2017['TX_RESP_Q002']=df_selecionadas_2017['TX_RESP_Q002'].fillna(moda)\n",
        "\n",
        "moda=st.mode(df_selecionadas_2017['TX_RESP_Q018'])\n",
        "df_selecionadas_2017['TX_RESP_Q018']=df_selecionadas_2017['TX_RESP_Q018'].fillna(moda)\n",
        "\n",
        "moda=st.mode(df_selecionadas_2017['TX_RESP_Q022'])\n",
        "df_selecionadas_2017['TX_RESP_Q022']=df_selecionadas_2017['TX_RESP_Q022'].fillna(moda)\n",
        "\n",
        "moda=st.mode(df_selecionadas_2017['TX_RESP_Q019'])\n",
        "df_selecionadas_2017['TX_RESP_Q019']=df_selecionadas_2017['TX_RESP_Q019'].fillna(moda)\n",
        "\n",
        "moda=st.mode(df_selecionadas_2017['TX_RESP_Q023'])\n",
        "df_selecionadas_2017['TX_RESP_Q023']=df_selecionadas_2017['TX_RESP_Q023'].fillna(moda)\n",
        "\n",
        "moda=st.mode(df_selecionadas_2017['TX_RESP_Q031'])\n",
        "df_selecionadas_2017['TX_RESP_Q031']=df_selecionadas_2017['TX_RESP_Q031'].fillna(moda)\n",
        "\n",
        "moda=st.mode(df_selecionadas_2017['TX_RESP_Q027'])\n",
        "df_selecionadas_2017['TX_RESP_Q027']=df_selecionadas_2017['TX_RESP_Q027'].fillna(moda)\n",
        "\n",
        "moda=st.mode(df_selecionadas_2017['TX_RESP_Q028'])\n",
        "df_selecionadas_2017['TX_RESP_Q028']=df_selecionadas_2017['TX_RESP_Q028'].fillna(moda)\n",
        "\n",
        "moda=st.mode(df_selecionadas_2017['TX_RESP_Q030'])\n",
        "df_selecionadas_2017['TX_RESP_Q030']=df_selecionadas_2017['TX_RESP_Q030'].fillna(moda)\n",
        "\n",
        "moda=st.mode(df_selecionadas_2017['TX_RESP_Q026'])\n",
        "df_selecionadas_2017['TX_RESP_Q026']=df_selecionadas_2017['TX_RESP_Q026'].fillna(moda)\n",
        "\n",
        "moda=st.mode(df_selecionadas_2017['TX_RESP_Q017'])\n",
        "df_selecionadas_2017['TX_RESP_Q017']=df_selecionadas_2017['TX_RESP_Q017'].fillna(moda)\n",
        "\n",
        "moda=st.mode(df_selecionadas_2017['TX_RESP_Q013'])\n",
        "df_selecionadas_2017['TX_RESP_Q013']=df_selecionadas_2017['TX_RESP_Q013'].fillna(moda)\n",
        "\n",
        "moda=st.mode(df_selecionadas_2017['TX_RESP_Q011'])\n",
        "df_selecionadas_2017['TX_RESP_Q011']=df_selecionadas_2017['TX_RESP_Q011'].fillna(moda)\n",
        "\n",
        "moda=st.mode(df_selecionadas_2017['TX_RESP_Q046'])\n",
        "df_selecionadas_2017['TX_RESP_Q046']=df_selecionadas_2017['TX_RESP_Q046'].fillna(moda)\n",
        "\n",
        "moda=st.mode(df_selecionadas_2017['TX_RESP_Q048'])\n",
        "df_selecionadas_2017['TX_RESP_Q048']=df_selecionadas_2017['TX_RESP_Q048'].fillna(moda)\n",
        "\n",
        "moda=st.mode(df_selecionadas_2017['TX_RESP_Q049'])\n",
        "df_selecionadas_2017['TX_RESP_Q049']=df_selecionadas_2017['TX_RESP_Q049'].fillna(moda)\n",
        "\n",
        "moda=st.mode(df_selecionadas_2017['TX_RESP_Q044'])\n",
        "df_selecionadas_2017['TX_RESP_Q044']=df_selecionadas_2017['TX_RESP_Q044'].fillna(moda)\n",
        "\n",
        "moda=st.mode(df_selecionadas_2017['TX_RESP_Q045'])\n",
        "df_selecionadas_2017['TX_RESP_Q045']=df_selecionadas_2017['TX_RESP_Q045'].fillna(moda)\n",
        "\n",
        "moda=st.mode(df_selecionadas_2017['TX_RESP_Q033'])\n",
        "df_selecionadas_2017['TX_RESP_Q033']=df_selecionadas_2017['TX_RESP_Q033'].fillna(moda)\n",
        "\n",
        "moda=st.mode(df_selecionadas_2017['TX_RESP_Q036'])\n",
        "df_selecionadas_2017['TX_RESP_Q036']=df_selecionadas_2017['TX_RESP_Q036'].fillna(moda)\n",
        "\n",
        "moda=st.mode(df_selecionadas_2017['TX_RESP_Q057'])\n",
        "df_selecionadas_2017['TX_RESP_Q057']=df_selecionadas_2017['TX_RESP_Q057'].fillna(moda)\n",
        "\n"
      ],
      "execution_count": null,
      "outputs": []
    },
    {
      "cell_type": "code",
      "metadata": {
        "id": "lrYx7jQx9pgF"
      },
      "source": [
        "df_selecionadas_2017.isnull().sum()"
      ],
      "execution_count": null,
      "outputs": []
    },
    {
      "cell_type": "markdown",
      "metadata": {
        "id": "qt87NXvcnl9r"
      },
      "source": [
        "## Dicotomizando as variáveis da base de 2017 (passando para numérica)"
      ]
    },
    {
      "cell_type": "code",
      "metadata": {
        "id": "uEkpIKIfnl9s"
      },
      "source": [
        "##Codificando as variáveis##\n",
        "\n",
        "#norte-nordeste - 0\n",
        "#sul-sudeste-centro - 1\n",
        "\n",
        "print(df_selecionadas_2017.groupby('ID_REGIAO').size())\n",
        "\n",
        "df_selecionadas_2017['ID_REGIAO']=np.where(\n",
        "    df_selecionadas_2017['ID_REGIAO']==1,0,\n",
        "        np.where(df_selecionadas_2017['ID_REGIAO']==2,0,1))\n",
        "\n",
        "                \n",
        "print(df_selecionadas_2017.groupby('ID_REGIAO').size())"
      ],
      "execution_count": null,
      "outputs": []
    },
    {
      "cell_type": "code",
      "metadata": {
        "id": "fMH-rB9Gnl9t"
      },
      "source": [
        "##Codificando as variáveis##\n",
        "\n",
        "df_selecionadas_2017.groupby(by = 'TX_RESP_Q031').count()\n",
        "print(df_selecionadas_2017.groupby('TX_RESP_Q031').size())\n",
        "\n",
        "df_selecionadas_2017['TX_RESP_Q031']=np.where(df_selecionadas_2017['TX_RESP_Q031']=='A',1,0)\n",
        "print(df_selecionadas_2017.groupby('TX_RESP_Q031').size())\n"
      ],
      "execution_count": null,
      "outputs": []
    },
    {
      "cell_type": "code",
      "metadata": {
        "id": "wlzcjvGPnl9u"
      },
      "source": [
        "print(df_selecionadas_2017.groupby('TX_RESP_Q018').size())\n",
        "df_selecionadas_2017['TX_RESP_Q018']=np.where(df_selecionadas_2017['TX_RESP_Q018']=='B',0,1)\n",
        "print(df_selecionadas_2017.groupby('TX_RESP_Q018').size())\n"
      ],
      "execution_count": null,
      "outputs": []
    },
    {
      "cell_type": "code",
      "metadata": {
        "id": "-E0uUcsWnl9v"
      },
      "source": [
        "\n",
        "print(df_selecionadas_2017.groupby('TX_RESP_Q022').size())\n",
        "df_selecionadas_2017['TX_RESP_Q022']=np.where(df_selecionadas_2017['TX_RESP_Q022']=='B',0,1)\n",
        "print(df_selecionadas_2017.groupby('TX_RESP_Q022').size())\n"
      ],
      "execution_count": null,
      "outputs": []
    },
    {
      "cell_type": "code",
      "metadata": {
        "id": "LaLXWuBxnl9w"
      },
      "source": [
        "print(df_selecionadas_2017.groupby('TX_RESP_Q027').size())\n",
        "df_selecionadas_2017['TX_RESP_Q027']=np.where(df_selecionadas_2017['TX_RESP_Q027']=='B',0,1)\n",
        "print(df_selecionadas_2017.groupby('TX_RESP_Q027').size())\n"
      ],
      "execution_count": null,
      "outputs": []
    },
    {
      "cell_type": "code",
      "metadata": {
        "id": "UMRsQs5xnl9x"
      },
      "source": [
        "print(df_selecionadas_2017.groupby('TX_RESP_Q028').size())\n",
        "df_selecionadas_2017['TX_RESP_Q028']=np.where(df_selecionadas_2017['TX_RESP_Q028']=='B',0,1)\n",
        "print(df_selecionadas_2017.groupby('TX_RESP_Q028').size())\n",
        "\n"
      ],
      "execution_count": null,
      "outputs": []
    },
    {
      "cell_type": "code",
      "metadata": {
        "id": "wH-acKx6nl9y"
      },
      "source": [
        "print(df_selecionadas_2017.groupby('TX_RESP_Q030').size())\n",
        "df_selecionadas_2017['TX_RESP_Q030']=np.where(df_selecionadas_2017['TX_RESP_Q030']=='B',0,1)\n",
        "print(df_selecionadas_2017.groupby('TX_RESP_Q030').size())\n",
        "\n"
      ],
      "execution_count": null,
      "outputs": []
    },
    {
      "cell_type": "code",
      "metadata": {
        "scrolled": false,
        "id": "bxd8mEhznl9z"
      },
      "source": [
        "print(df_selecionadas_2017.groupby('TX_RESP_Q011').size())\n",
        "\n",
        "df_selecionadas_2017['TX_RESP_Q011']=np.where(df_selecionadas_2017['TX_RESP_Q011']=='A',0,1)\n",
        "print(df_selecionadas_2017.groupby('TX_RESP_Q011').size())"
      ],
      "execution_count": null,
      "outputs": []
    },
    {
      "cell_type": "code",
      "metadata": {
        "id": "PPUMWYjNBXQO"
      },
      "source": [
        "print(df_selecionadas_2017.groupby('TX_RESP_Q036').size())\n",
        "\n",
        "df_selecionadas_2017['TX_RESP_Q036']=np.where(\n",
        "\tdf_selecionadas_2017['TX_RESP_Q036']=='A',2,\n",
        "\tnp.where(\n",
        "\t\tdf_selecionadas_2017['TX_RESP_Q036']=='B',1\n",
        "\t\t,np.where(\n",
        "\t\t\tdf_selecionadas_2017['TX_RESP_Q036']=='C',0,0\n",
        "\t\t  )\n",
        "\t\t\t)\n",
        "\t\t\t)\n",
        "                \n",
        "print(df_selecionadas_2017.groupby('TX_RESP_Q036').size())"
      ],
      "execution_count": null,
      "outputs": []
    },
    {
      "cell_type": "code",
      "metadata": {
        "id": "zu-M3R5knl90"
      },
      "source": [
        "print(df_selecionadas_2017.groupby('TX_RESP_Q033').size())\n",
        "\n",
        "df_selecionadas_2017['TX_RESP_Q033']=np.where(\n",
        "\tdf_selecionadas_2017['TX_RESP_Q033']=='A',2,\n",
        "\tnp.where(\n",
        "\t\tdf_selecionadas_2017['TX_RESP_Q033']=='B',1\n",
        "\t\t,np.where(\n",
        "\t\t\tdf_selecionadas_2017['TX_RESP_Q033']=='C',0,0\n",
        "\t\t  )\n",
        "\t\t\t)\n",
        "\t\t\t)\n",
        "                \n",
        "print(df_selecionadas_2017.groupby('TX_RESP_Q033').size())"
      ],
      "execution_count": null,
      "outputs": []
    },
    {
      "cell_type": "code",
      "metadata": {
        "id": "T9Yi2HAhnl92"
      },
      "source": [
        "print(df_selecionadas_2017.groupby('TX_RESP_Q045').size())\n",
        "\n",
        "df_selecionadas_2017['TX_RESP_Q045']=np.where(df_selecionadas_2017['TX_RESP_Q045']=='A',1,0)\n",
        "print(df_selecionadas_2017.groupby('TX_RESP_Q045').size())"
      ],
      "execution_count": null,
      "outputs": []
    },
    {
      "cell_type": "code",
      "metadata": {
        "scrolled": true,
        "id": "DcOa-eIFnl93"
      },
      "source": [
        "print(df_selecionadas_2017.groupby('TX_RESP_Q044').size())\n",
        "\n",
        "df_selecionadas_2017['TX_RESP_Q044']=np.where(df_selecionadas_2017['TX_RESP_Q044']=='E',0,1)\n",
        "print(df_selecionadas_2017.groupby('TX_RESP_Q044').size())"
      ],
      "execution_count": null,
      "outputs": []
    },
    {
      "cell_type": "code",
      "metadata": {
        "id": "_BUKv-a2nl94"
      },
      "source": [
        "print(df_selecionadas_2017.groupby('TX_RESP_Q013').size())\n",
        "df_selecionadas_2017['TX_RESP_Q013']=np.where(df_selecionadas_2017['TX_RESP_Q013']=='A',0,1)\n",
        "print(df_selecionadas_2017.groupby('TX_RESP_Q013').size())\n",
        "\n"
      ],
      "execution_count": null,
      "outputs": []
    },
    {
      "cell_type": "code",
      "metadata": {
        "id": "hD1J8Hyenl94"
      },
      "source": [
        "print(df_selecionadas_2017.groupby('TX_RESP_Q048').size())\n",
        "\n",
        "df_selecionadas_2017['TX_RESP_Q048']=np.where(\n",
        "\tdf_selecionadas_2017['TX_RESP_Q048']=='A',0,\n",
        "\tnp.where(\n",
        "\t\tdf_selecionadas_2017['TX_RESP_Q048']=='B',1\n",
        "\t\t,np.where(\n",
        "\t\t\tdf_selecionadas_2017['TX_RESP_Q048']=='C',2,2\n",
        "\t\t  )\n",
        "\t\t\t)\n",
        "\t\t\t)\n",
        "                \n",
        "print(df_selecionadas_2017.groupby('TX_RESP_Q048').size())"
      ],
      "execution_count": null,
      "outputs": []
    },
    {
      "cell_type": "code",
      "metadata": {
        "scrolled": false,
        "id": "PiX09fyTnl95"
      },
      "source": [
        "print(df_selecionadas_2017.groupby('TX_RESP_Q049').size())\n",
        "df_selecionadas_2017['TX_RESP_Q049']=np.where(df_selecionadas_2017['TX_RESP_Q049']=='A',0,1)\n",
        "print(df_selecionadas_2017.groupby('TX_RESP_Q049').size())"
      ],
      "execution_count": null,
      "outputs": []
    },
    {
      "cell_type": "code",
      "metadata": {
        "id": "KeQ0pAhwnl96"
      },
      "source": [
        ""
      ],
      "execution_count": null,
      "outputs": []
    },
    {
      "cell_type": "code",
      "metadata": {
        "scrolled": false,
        "id": "I-DIwSoUnl96"
      },
      "source": [
        "# A = 0 B = 0, C = 1, D = 2, E = 3, F = 4\n",
        "# G = 5 , null = None\n",
        "\n",
        "print(df_selecionadas_2017.groupby('TX_RESP_Q019').size())\n",
        "\n",
        "df_selecionadas_2017['TX_RESP_Q019']=np.where(\n",
        "\tdf_selecionadas_2017['TX_RESP_Q019']=='A',0,\n",
        "\tnp.where(\n",
        "\t\tdf_selecionadas_2017['TX_RESP_Q019']=='B',0\n",
        "\t\t,np.where(\n",
        "\t\t\tdf_selecionadas_2017['TX_RESP_Q019']=='C',1,\n",
        "\t\t\tnp.where(\n",
        "\t\t\t\tdf_selecionadas_2017['TX_RESP_Q019']=='D',2,\n",
        "\t\t\t\tnp.where(\n",
        "\t\t\t\t\tdf_selecionadas_2017['TX_RESP_Q019']=='E',3,\n",
        "\t\t\t\t\tnp.where(\n",
        "\t\t\t\t\t\tdf_selecionadas_2017['TX_RESP_Q019']=='F',4,\n",
        "\t\t\t\t\t\tnp.where(\n",
        "\t\t\t\t\t\t\tdf_selecionadas_2017['TX_RESP_Q019']=='G',5 ,5\n",
        "\t\t\t)\n",
        "\t\t\t)\n",
        "\t\t\t)))))\n",
        "                \n",
        "print(df_selecionadas_2017.groupby('TX_RESP_Q019').size())\n",
        "\n",
        "# qtd de nulos 29480"
      ],
      "execution_count": null,
      "outputs": []
    },
    {
      "cell_type": "code",
      "metadata": {
        "id": "i0QGjBWrnl98"
      },
      "source": [
        ""
      ],
      "execution_count": null,
      "outputs": []
    },
    {
      "cell_type": "code",
      "metadata": {
        "id": "Yx7EWLuWnl98"
      },
      "source": [
        "# A = 0, B = 0, C = 1, D = 2, E = 3, F = 4 \n",
        "# G null\n",
        "\n",
        "\n",
        "print(df_selecionadas_2017.groupby('TX_RESP_Q023').size())\n",
        "\n",
        "df_selecionadas_2017['TX_RESP_Q023']=np.where(\n",
        "\tdf_selecionadas_2017['TX_RESP_Q023']=='A',0,\n",
        "\tnp.where(\n",
        "\t\tdf_selecionadas_2017['TX_RESP_Q023']=='B',0\n",
        "\t\t,np.where(\n",
        "\t\t\tdf_selecionadas_2017['TX_RESP_Q023']=='C',1,\n",
        "\t\t\tnp.where(\n",
        "\t\t\t\tdf_selecionadas_2017['TX_RESP_Q023']=='D',2,\n",
        "\t\t\t\tnp.where(\n",
        "\t\t\t\t\tdf_selecionadas_2017['TX_RESP_Q023']=='E',3,\n",
        "\t\t\t\t\tnp.where(\n",
        "\t\t\t\t\t\tdf_selecionadas_2017['TX_RESP_Q023']=='F',4,\n",
        "\t\t\t\t\t\tnp.where(\n",
        "\t\t\t\t\t\t\tdf_selecionadas_2017['TX_RESP_Q023']=='G', 5 ,5\n",
        "\t\t\t)\n",
        "\t\t\t)\n",
        "\t\t\t)))))\n",
        "                \n",
        "print(df_selecionadas_2017.groupby('TX_RESP_Q023').size())\n",
        "\n",
        "\n",
        "\n",
        "#df_selecionadas_2017['TX_RESP_Q023']=np.where(df_selecionadas_2017['TX_RESP_Q023']=='A',0,1)\n",
        "#print(df_selecionadas_2017.groupby('TX_RESP_Q023').size())"
      ],
      "execution_count": null,
      "outputs": []
    },
    {
      "cell_type": "code",
      "metadata": {
        "id": "_Dt98nuQnl9-"
      },
      "source": [
        "print(df_selecionadas_2017.groupby('TX_RESP_Q026').size())\n",
        "\n",
        "df_selecionadas_2017['TX_RESP_Q026']=np.where(\n",
        "\tdf_selecionadas_2017['TX_RESP_Q026']=='A',2,\n",
        "\tnp.where(\n",
        "\t\tdf_selecionadas_2017['TX_RESP_Q026']=='B',1\n",
        "\t\t,np.where(\n",
        "\t\t\tdf_selecionadas_2017['TX_RESP_Q026']=='C',0,0\n",
        "\t\t  )\n",
        "\t\t\t)\n",
        "\t\t\t)\n",
        "print(df_selecionadas_2017.groupby('TX_RESP_Q026').size())"
      ],
      "execution_count": null,
      "outputs": []
    },
    {
      "cell_type": "code",
      "metadata": {
        "scrolled": true,
        "id": "FbaUb6tynl9-"
      },
      "source": [
        "print(df_selecionadas_2017.groupby('TX_RESP_Q017').size())\n",
        "df_selecionadas_2017['TX_RESP_Q017']=np.where(df_selecionadas_2017['TX_RESP_Q017']=='A',0,1)\n",
        "print(df_selecionadas_2017.groupby('TX_RESP_Q017').size())"
      ],
      "execution_count": null,
      "outputs": []
    },
    {
      "cell_type": "code",
      "metadata": {
        "id": "FSgczpkDnl9_"
      },
      "source": [
        "# A = 0, B = 1, C = 2 e D = 3\n",
        "\n",
        "\n",
        "print(df_selecionadas_2017.groupby('TX_RESP_Q046').size())\n",
        "\n",
        "df_selecionadas_2017['TX_RESP_Q046']=np.where(\n",
        "\tdf_selecionadas_2017['TX_RESP_Q046']=='A',0,\n",
        "\tnp.where(\n",
        "\t\tdf_selecionadas_2017['TX_RESP_Q046']=='B',1\n",
        "\t\t,np.where(\n",
        "\t\t\tdf_selecionadas_2017['TX_RESP_Q046']=='C',2,\n",
        "\t\t\tnp.where(\n",
        "\t\t\t\tdf_selecionadas_2017['TX_RESP_Q046']=='D',3, 3\n",
        "\t\t\t)\n",
        "\t\t\t)\n",
        "\t\t\t))\n",
        "                \n",
        "print(df_selecionadas_2017.groupby('TX_RESP_Q046').size())"
      ],
      "execution_count": null,
      "outputs": []
    },
    {
      "cell_type": "code",
      "metadata": {
        "scrolled": true,
        "id": "Gh0GkyO9nl-B"
      },
      "source": [
        "print(df_selecionadas_2017.groupby('TX_RESP_Q057').size())\n",
        "\n",
        "df_selecionadas_2017['TX_RESP_Q057']=np.where(\n",
        "\tdf_selecionadas_2017['TX_RESP_Q057']=='A',0,\n",
        "\tnp.where(\n",
        "\t\tdf_selecionadas_2017['TX_RESP_Q057']=='B',2\n",
        "\t\t,np.where(\n",
        "\t\t\tdf_selecionadas_2017['TX_RESP_Q057']=='C',1,\n",
        "\t\t\tnp.where(\n",
        "\t\t\t\tdf_selecionadas_2017['TX_RESP_Q057']=='D',3,4\n",
        "\t\t\t)\n",
        "\t\t\t)\n",
        "\t\t\t))\n",
        "                \n",
        "print(df_selecionadas_2017.groupby('TX_RESP_Q057').size())\n"
      ],
      "execution_count": null,
      "outputs": []
    },
    {
      "cell_type": "markdown",
      "metadata": {
        "id": "jao10Kwtnl-B"
      },
      "source": [
        "## Renomeando variaveis"
      ]
    },
    {
      "cell_type": "code",
      "metadata": {
        "scrolled": false,
        "id": "CZJRCBnPnl-C"
      },
      "source": [
        "df_selecionadas_2017 = df_selecionadas_2017.rename(columns={\"ID_REGIAO\": \"REGIAO\",\n",
        "                                     \"ID_UF\": \"UF\", \"ID_AREA\": \"AREA\", \n",
        "                                     \"ID_DEPENDENCIA_ADM\": \"DEPENDENCIA_ADM\", \n",
        "                                     \"ID_LOCALIZACAO\": \"LOCALIZACAO\", \"ID_TURNO\": \"TURNO\",\n",
        "                                     'TX_RESP_Q002': \"COR_RACA\", # nao converter, pois n entra no modelo\n",
        "                                     'TX_RESP_Q018': \"MORA_MAE\", \n",
        "                                     'TX_RESP_Q022': \"MORA_PAI\",\n",
        "                                     'TX_RESP_Q019': \"ESCOLARIDADE_MAE\", #\n",
        "                                     'TX_RESP_Q023': \"ESCOLARIDADE_PAI\", # \n",
        "                                     'TX_RESP_Q031': \"CONVERSA_PAIS_SOBRE_ESCOLA\", \n",
        "                                     'TX_RESP_Q027': \"INCENTIVO_PAIS_ESTUDAR\",\n",
        "                                     'TX_RESP_Q028': \"INCENTIVO_PAIS_DEVER_DE_CASA\", \n",
        "                                     'TX_RESP_Q030': \"INCENTIVO_PAIS_IR_ESCOLA\", \n",
        "                                     'TX_RESP_Q026': \"IDA_PAIS_REUNIOES\", #\n",
        "                                     'TX_RESP_Q017': \"TEM_EMPREGADA_O\", #\n",
        "                                     'TX_RESP_Q013': \"TEM_COMPUTADOR\", #\n",
        "                                     'TX_RESP_Q011': \"TEM_MAQUINA_LAVAR_ROUPAS\",\n",
        "                                     'TX_RESP_Q046': \"QUANDO_ENTROU_ESCOLA\", #\n",
        "                                     'TX_RESP_Q048': \"JA_FOI_REPROVADO\", #\n",
        "                                     'TX_RESP_Q049': \"ABANDONOU_ESCOLA\", #\n",
        "                                     'TX_RESP_Q044': \"TEMPO_GASTO_TRAB_DOMESTICO\",#\n",
        "                                     'TX_RESP_Q045': \"TRABALHO_EXTERNO\", #\n",
        "                                     'TX_RESP_Q033': \"LE_LIVROS\",#\n",
        "                                     'TX_RESP_Q036': \"LE_GIBI\",#\n",
        "                                     'TX_RESP_Q057' : \"OQUE_FAZER_POS_FUNDAMENTAL\"})\n",
        "\n",
        "df_selecionadas_2017.columns"
      ],
      "execution_count": null,
      "outputs": []
    },
    {
      "cell_type": "code",
      "metadata": {
        "id": "xfJwjpYynl-D"
      },
      "source": [
        ""
      ],
      "execution_count": null,
      "outputs": []
    },
    {
      "cell_type": "code",
      "metadata": {
        "id": "U5lvvf5vnl-E"
      },
      "source": [
        "df_selecionadas_2017.describe().round(2)"
      ],
      "execution_count": null,
      "outputs": []
    },
    {
      "cell_type": "code",
      "metadata": {
        "id": "tw0CJdvWnl-F"
      },
      "source": [
        "#df_sel_tx = df_selecionadas_2017.filter(like='TX_RESP_Q', axis=1)\n",
        "#df_sel_tx.columns"
      ],
      "execution_count": null,
      "outputs": []
    },
    {
      "cell_type": "code",
      "metadata": {
        "id": "1LJKH7x_nl-H"
      },
      "source": [
        "# OBETIVO: Prever a proeficiencia do aluno com as variaveis. \n",
        "\n",
        "## como selecionar as variaveis? \n",
        "### correlação de Pearson"
      ],
      "execution_count": null,
      "outputs": []
    },
    {
      "cell_type": "code",
      "metadata": {
        "id": "iSc-RVjAnl-H"
      },
      "source": [
        "## tirar Nan das variaveis de proeficiencia de port e mate (pois foram alunos que faltaram a prova)\n",
        "\n",
        "# https://pandas.pydata.org/docs/reference/api/pandas.DataFrame.dropna.html\n",
        "\n",
        "# df.dropna(subset=['name', 'toy'])"
      ],
      "execution_count": null,
      "outputs": []
    },
    {
      "cell_type": "code",
      "metadata": {
        "id": "k0L_TkJ1nl-I"
      },
      "source": [
        "## calcular a media das vars de proeficiencia (ok)"
      ],
      "execution_count": null,
      "outputs": []
    },
    {
      "cell_type": "code",
      "metadata": {
        "id": "STKA2L4Anl-J"
      },
      "source": [
        "## converter as vars de A,B,C,D para dicotomica 0 ou 1."
      ],
      "execution_count": null,
      "outputs": []
    },
    {
      "cell_type": "code",
      "metadata": {
        "id": "4JnKxnHmnl-J"
      },
      "source": [
        "## ver medidas de associação para as vars e proeficiencia (qui-quadrado por exemplo)"
      ],
      "execution_count": null,
      "outputs": []
    },
    {
      "cell_type": "markdown",
      "metadata": {
        "id": "gHacY7p4nl-J"
      },
      "source": [
        "## Salvando base filtrada"
      ]
    },
    {
      "cell_type": "code",
      "metadata": {
        "id": "LMDBRerenl-K"
      },
      "source": [
        "df_selecionadas_2017.to_csv(\"base_2017_filtrada_v3_SEM_NA.csv\", sep='\\t')"
      ],
      "execution_count": null,
      "outputs": []
    },
    {
      "cell_type": "code",
      "metadata": {
        "id": "RkUwsnTBG8NT"
      },
      "source": [
        "df_selecionadas_2017.to_csv(\"/content/drive/MyDrive/UPE/Projeto Ciência de Dados/dataset/base_2017_filtrada_v3_SEM_NA.csv\", sep='\\t')"
      ],
      "execution_count": null,
      "outputs": []
    },
    {
      "cell_type": "code",
      "metadata": {
        "id": "ifzEiO2rnl-L"
      },
      "source": [
        "# Base de dados para modelagem "
      ],
      "execution_count": null,
      "outputs": []
    },
    {
      "cell_type": "code",
      "metadata": {
        "scrolled": false,
        "id": "-OpomOG8nl-M"
      },
      "source": [
        "df_2017 = pd.read_csv('./dataset/base_2017_filtrada.csv',  sep='\\t', decimal=\".\")\n",
        "df_2017.head(5)"
      ],
      "execution_count": null,
      "outputs": []
    },
    {
      "cell_type": "code",
      "metadata": {
        "scrolled": true,
        "id": "_9xypRVrnl-M"
      },
      "source": [
        "df_selecionadas_2017.isnull().sum()"
      ],
      "execution_count": null,
      "outputs": []
    },
    {
      "cell_type": "code",
      "metadata": {
        "scrolled": true,
        "id": "VNX24NRznl-M"
      },
      "source": [
        "df_selecionadas_2017.groupby(by = 'COR_RACA').count()"
      ],
      "execution_count": null,
      "outputs": []
    },
    {
      "cell_type": "code",
      "metadata": {
        "id": "5egDStx5nl-N"
      },
      "source": [
        "df_selecionadas_2017.head()"
      ],
      "execution_count": null,
      "outputs": []
    },
    {
      "cell_type": "markdown",
      "metadata": {
        "id": "gKI9G4X0nl-N"
      },
      "source": [
        "## Base SAEP alunos nono ano 2019"
      ]
    },
    {
      "cell_type": "code",
      "metadata": {
        "id": "nWKEdVyMnl-O"
      },
      "source": [
        "df_2019 = pd.read_csv('./dataset/join_aluno_escola_saeb_2019.csv',  sep='\\t', decimal=\".\")\n",
        "df_2019"
      ],
      "execution_count": null,
      "outputs": []
    },
    {
      "cell_type": "code",
      "metadata": {
        "id": "nYnnBc83nl-O"
      },
      "source": [
        "df_sel_tx = df_2019.filter(like='TX_RESP_Q0', axis=1)\n",
        "df_sel_tx.columns"
      ],
      "execution_count": null,
      "outputs": []
    },
    {
      "cell_type": "code",
      "metadata": {
        "id": "8Uxrappwnl-P"
      },
      "source": [
        "df_selecionadas_2019 = df_2019[['ID_ALUNO','ID_REGIAO', 'ID_UF', 'ID_AREA', 'ID_DEPENDENCIA_ADM','ID_LOCALIZACAO', 'ID_TURNO',\n",
        "                            'PROFICIENCIA_MT_SAEB', 'PROFICIENCIA_LP_SAEB',\n",
        "                            'TX_RESP_Q002', #\"COR_RACA\", \n",
        "                            'TX_RESP_Q003A', #\"MORA_MAE\", \n",
        "                            'TX_RESP_Q003B', #\"MORA_PAI\",\n",
        "                            'TX_RESP_Q004', #\"ESCOLARIDADE_MAE\", \n",
        "                            'TX_RESP_Q005', #\"ESCOLARIDADE_PAI\",\n",
        "                            'TX_RESP_Q006A', #\"CONVERSA_PAIS_SOBRE_ESCOLA\", \n",
        "                            'TX_RESP_Q006B', #\"INCENTIVO_PAIS_ESTUDAR\",      \n",
        "                            'TX_RESP_Q006C', #\"INCENTIVO_PAIS_DEVER_DE_CASA\"\n",
        "                            'TX_RESP_Q006D', #\"INCENTIVO_PAIS_IR_ESCOLA\",  \n",
        "                            'TX_RESP_Q006E', #\"IDA_PAIS_REUNIOES\",     \n",
        "                            'TX_RESP_Q007', #\"TEM_EMPREGADA_O\",                                \n",
        "                            'TX_RESP_Q009C', #\"TEM_COMPUTADOR\",                                \n",
        "                            'TX_RESP_Q010H', #\"TEM_MAQUINA_LAVAR_ROUPAS\",                                \n",
        "                            'TX_RESP_Q013', #\"QUANDO_ENTROU_ESCOLA\",                                 \n",
        "                            'TX_RESP_Q015', #\"JA_FOI_REPROVADO\",                                \n",
        "                            'TX_RESP_Q016', #\"ABANDONOU_ESCOLA\",                                \n",
        "                            'TX_RESP_Q017C', #\"TEMPO_GASTO_TRAB_DOMESTICO\",  \n",
        "                            'TX_RESP_Q017E', #\"TRABALHO_EXTERNO\",                                 \n",
        "                            'TX_RESP_Q018B', #\"LE_LIVROS\",\n",
        "                            'TX_RESP_Q018C', #\"LE_GIBI\"})\n",
        "                            'TX_RESP_Q019']] #OQUE_FAZER_POS_FUNDAMENTAL\n",
        "df_selecionadas_2019\n"
      ],
      "execution_count": null,
      "outputs": []
    },
    {
      "cell_type": "markdown",
      "metadata": {
        "id": "Hrdb-2lKSiyG"
      },
      "source": [
        "# Análise Descritiva"
      ]
    },
    {
      "cell_type": "markdown",
      "metadata": {
        "id": "MjLZSO_VSLtM"
      },
      "source": [
        "### REGIÃO"
      ]
    },
    {
      "cell_type": "code",
      "metadata": {
        "id": "W3OpwVL8SDFp",
        "scrolled": false
      },
      "source": [
        "região = df_filter.groupby(by = ['ID_REGIAO'], dropna=False).count()\n",
        "região = região[['ID_ALUNO']]\n",
        "região['regiao'] = ['Norte', 'Nordeste', 'Sudeste', 'Sul', 'Centro-Oeste']\n"
      ],
      "execution_count": null,
      "outputs": []
    },
    {
      "cell_type": "code",
      "metadata": {
        "id": "Z7QlHM7Vnl-U"
      },
      "source": [
        "região"
      ],
      "execution_count": null,
      "outputs": []
    },
    {
      "cell_type": "code",
      "metadata": {
        "scrolled": true,
        "id": "JbfeQ547nl-V"
      },
      "source": [
        "regiã0 = região.sort_values('ID_ALUNO')"
      ],
      "execution_count": null,
      "outputs": []
    },
    {
      "cell_type": "code",
      "metadata": {
        "id": "31Ry3ruXnl-V"
      },
      "source": [
        "região.plot(x = 'regiao', y = 'ID_ALUNO',  kind='bar',\n",
        "        alpha=0.9,\n",
        "        rot=45,\n",
        "        grid=True,\n",
        "        figsize=(10,5),\n",
        "        fontsize=12, \n",
        "        color=['#33513bff'], use_index  = True, label = 'Alunos')\n",
        "plt.xlabel('Regiões do Brasil')\n",
        "plt.ylabel(\"Contagem ID_ALUNO\")"
      ],
      "execution_count": null,
      "outputs": []
    },
    {
      "cell_type": "code",
      "metadata": {
        "id": "_quY4USSnl-V"
      },
      "source": [
        ""
      ],
      "execution_count": null,
      "outputs": []
    },
    {
      "cell_type": "code",
      "metadata": {
        "id": "w0iIoj1Lnl-W"
      },
      "source": [
        ""
      ],
      "execution_count": null,
      "outputs": []
    },
    {
      "cell_type": "markdown",
      "metadata": {
        "id": "37WWQcWrnl-W"
      },
      "source": [
        "### UF"
      ]
    },
    {
      "cell_type": "code",
      "metadata": {
        "scrolled": true,
        "id": "ym0PmpuYnl-W"
      },
      "source": [
        "uf = df_filter.groupby(by = ['ID_UF'], dropna=False).count()\n",
        "uf = uf[['ID_ALUNO']] #grafico de barras invertido"
      ],
      "execution_count": null,
      "outputs": []
    },
    {
      "cell_type": "code",
      "metadata": {
        "id": "683IAFzNnl-X"
      },
      "source": [
        "uf.plot(y = 'ID_ALUNO',  kind='barh',\n",
        "        alpha=0.9,\n",
        "        rot=0,\n",
        "        grid=True,\n",
        "        figsize=(9,6),\n",
        "        fontsize=12, \n",
        "        color=['#33513bff'], use_index  = False)\n",
        "plt.xlabel('ufd do Brasil')\n",
        "plt.ylabel(\"Contagem ID_ALUNO\")"
      ],
      "execution_count": null,
      "outputs": []
    },
    {
      "cell_type": "markdown",
      "metadata": {
        "id": "AnvUQRC0nl-X"
      },
      "source": [
        "### AREA"
      ]
    },
    {
      "cell_type": "code",
      "metadata": {
        "id": "w_jLZYprnl-X"
      },
      "source": [
        "area = df_filter.groupby(by = ['ID_AREA'], dropna=False).count()\n",
        "area = area['ID_ALUNO']  #Grafico de setores\n",
        "\n",
        "#1 - Capital\n",
        "#2 - Interior"
      ],
      "execution_count": null,
      "outputs": []
    },
    {
      "cell_type": "code",
      "metadata": {
        "id": "hBdzoD0mnl-Y"
      },
      "source": [
        "area"
      ],
      "execution_count": null,
      "outputs": []
    },
    {
      "cell_type": "code",
      "metadata": {
        "id": "o2JHaPxpnl-Y"
      },
      "source": [
        "\n",
        "# Pie chart, where the slices will be ordered and plotted counter-clockwise:\n",
        "labels = 'Interior','Capital'\n",
        "sizes = [81.4, 18.6]\n",
        "explode = (0, 0.1,)  # only \"explode\" the 2nd slice (i.e. 'Hogs')\n",
        "\n",
        "fig1, ax1 = plt.subplots()\n",
        "\n",
        "ax1.pie(sizes, explode=explode, labels=labels, autopct='%1.1f%%',\n",
        "        shadow=True, startangle=90)\n",
        "\n",
        "ax1.axis('equal')  # Equal aspect ratio ensures that pie is drawn as a circle.\n",
        "\n",
        "plt.show()"
      ],
      "execution_count": null,
      "outputs": []
    },
    {
      "cell_type": "code",
      "metadata": {
        "id": "Ul1xiRPnnl-Y"
      },
      "source": [
        ""
      ],
      "execution_count": null,
      "outputs": []
    },
    {
      "cell_type": "code",
      "metadata": {
        "id": "Rt_FVWtAnl-Z"
      },
      "source": [
        ""
      ],
      "execution_count": null,
      "outputs": []
    },
    {
      "cell_type": "code",
      "metadata": {
        "id": "LMS3zcgTnl-Z"
      },
      "source": [
        ""
      ],
      "execution_count": null,
      "outputs": []
    },
    {
      "cell_type": "code",
      "metadata": {
        "id": "ukfMLu87nl-Z"
      },
      "source": [
        ""
      ],
      "execution_count": null,
      "outputs": []
    },
    {
      "cell_type": "code",
      "metadata": {
        "id": "jR6DK6ojnl-Z"
      },
      "source": [
        ""
      ],
      "execution_count": null,
      "outputs": []
    },
    {
      "cell_type": "code",
      "metadata": {
        "id": "Ey30Zr12nl-a"
      },
      "source": [
        ""
      ],
      "execution_count": null,
      "outputs": []
    },
    {
      "cell_type": "code",
      "metadata": {
        "id": "LeE5D65anl-a"
      },
      "source": [
        ""
      ],
      "execution_count": null,
      "outputs": []
    },
    {
      "cell_type": "code",
      "metadata": {
        "id": "bz6YN-7enl-a"
      },
      "source": [
        ""
      ],
      "execution_count": null,
      "outputs": []
    },
    {
      "cell_type": "code",
      "metadata": {
        "id": "7OQiN8nfnl-a"
      },
      "source": [
        ""
      ],
      "execution_count": null,
      "outputs": []
    },
    {
      "cell_type": "code",
      "metadata": {
        "id": "Nj7zk1eMnl-a"
      },
      "source": [
        ""
      ],
      "execution_count": null,
      "outputs": []
    },
    {
      "cell_type": "code",
      "metadata": {
        "id": "8uupAMFrnl-b"
      },
      "source": [
        ""
      ],
      "execution_count": null,
      "outputs": []
    },
    {
      "cell_type": "code",
      "metadata": {
        "id": "TcNHKn0_nl-b"
      },
      "source": [
        ""
      ],
      "execution_count": null,
      "outputs": []
    },
    {
      "cell_type": "code",
      "metadata": {
        "id": "OghiVzhrnl-b"
      },
      "source": [
        ""
      ],
      "execution_count": null,
      "outputs": []
    },
    {
      "cell_type": "code",
      "metadata": {
        "id": "85NNZ2fknl-b"
      },
      "source": [
        ""
      ],
      "execution_count": null,
      "outputs": []
    },
    {
      "cell_type": "code",
      "metadata": {
        "id": "LpFkfUB1nl-b"
      },
      "source": [
        ""
      ],
      "execution_count": null,
      "outputs": []
    },
    {
      "cell_type": "code",
      "metadata": {
        "id": "GJZLeQn8nl-c"
      },
      "source": [
        ""
      ],
      "execution_count": null,
      "outputs": []
    },
    {
      "cell_type": "code",
      "metadata": {
        "id": "WUB-ypWYnl-c"
      },
      "source": [
        ""
      ],
      "execution_count": null,
      "outputs": []
    },
    {
      "cell_type": "code",
      "metadata": {
        "id": "awpy1-ppnl-c"
      },
      "source": [
        ""
      ],
      "execution_count": null,
      "outputs": []
    },
    {
      "cell_type": "code",
      "metadata": {
        "id": "xnhkR1dunl-d"
      },
      "source": [
        ""
      ],
      "execution_count": null,
      "outputs": []
    },
    {
      "cell_type": "code",
      "metadata": {
        "id": "HDkoSlU1nl-d"
      },
      "source": [
        ""
      ],
      "execution_count": null,
      "outputs": []
    },
    {
      "cell_type": "code",
      "metadata": {
        "id": "MvVVDrHAR7Ez"
      },
      "source": [
        "# Cada plot terá o mesmo tamanho de figuras (10,5)\n",
        "%matplotlib inline\n",
        "import matplotlib.pyplot as plt\n",
        "\n",
        "fig, (ax1, ax2, ax3, ax4) = plt.subplots(2, 2, figsize=(10,5))\n",
        "\n",
        "\n",
        "import matplotlib.pyplot as plt\n",
        "import numpy as np\n",
        "%matplotlib inline\n",
        "x = df_filter[\"tx_aprov_09_6a9\"]\n",
        "plt.hist(x, density=True, bins=30)  # `density=False` would make counts\n",
        "plt.ylabel('Frequência')\n",
        "plt.xlabel('Taxa de Aprovação - Ano de 2009');\n",
        "plt.title(\"Histograma da Taxa de Aprovação do 6° ao 9° ano - Ano de 2009\");"
      ],
      "execution_count": null,
      "outputs": []
    },
    {
      "cell_type": "markdown",
      "metadata": {
        "id": "X38QrFR5btLu"
      },
      "source": [
        "## Análise Descritiva"
      ]
    },
    {
      "cell_type": "markdown",
      "metadata": {
        "id": "E_BQ-RsSxHnL"
      },
      "source": [
        "##**Ano 2005** "
      ]
    },
    {
      "cell_type": "code",
      "metadata": {
        "id": "axEXAYqjxJaj"
      },
      "source": [
        "df_filter[[\"tx_aprov_05_6a9\", \"nt_saeb_05_nmp\", \"ideb_05_np\"]].describe()"
      ],
      "execution_count": null,
      "outputs": []
    },
    {
      "cell_type": "markdown",
      "metadata": {
        "id": "nJrfI2-HxJaj"
      },
      "source": [
        "O Censo escolar no ano de 2005 apresenta taxa de aprovação média de 74%. Foi observada que a avaliação média das escolas era de 4.3. Como esse é o primeiro ano da base, não é informada a projeção de nota esperada."
      ]
    },
    {
      "cell_type": "code",
      "metadata": {
        "id": "UyjsIa-gxJak"
      },
      "source": [
        "# Define as configurações dos plots\n",
        "# Cada plot terá o mesmo tamanho de figuras (10,5)\n",
        "%matplotlib inline\n",
        "\n",
        "fig, (ax1, ax2, ax3) = plt.subplots(1, 3, figsize=(15,5))\n",
        "\n",
        "\n",
        "x1 = df[\"tx_aprov_05_6a9\"]\n",
        "x2 = df[\"nt_saeb_05_nmp\"]\n",
        "x3 = df[\"ideb_05_np\"]\n",
        "\n",
        "\n",
        "# Dados para cada subplot\n",
        "ax1.hist(x1, density=True, bins=30,color='#3DB2F2')\n",
        "ax2.hist(x2, density=True, bins=30, color='#62A6F5')\n",
        "ax3.hist(x3, density=True, bins=30,color='#2A5EE0')\n",
        "\n",
        "\n",
        "ax1.set(title=\"Taxa de Aprovação (2005)\", xlabel=\"Eixo x\", ylabel=\" Eixo y\")\n",
        "ax2.set(title=\"Notas SAEB (2005)\", xlabel=\"Eixo x\", ylabel=\" Eixo y\")\n",
        "ax3.set(title=\"IDEB (2005)\", xlabel=\"Eixo x\", ylabel=\" Eixo y\")\n"
      ],
      "execution_count": null,
      "outputs": []
    },
    {
      "cell_type": "markdown",
      "metadata": {
        "id": "SEeeiHrSwnA5"
      },
      "source": [
        "##**Ano 2007** "
      ]
    },
    {
      "cell_type": "code",
      "metadata": {
        "id": "26ZfjP9fwfe5"
      },
      "source": [
        "df_filter[[\"tx_aprov_07_6a9\", \"nt_saeb_07_nmp\", \"ideb_07_np\", \"proj_07\"]].describe()"
      ],
      "execution_count": null,
      "outputs": []
    },
    {
      "cell_type": "markdown",
      "metadata": {
        "id": "hKJJLx4Qwfe9"
      },
      "source": [
        "O Censo escolar no ano de 2007 apresenta taxa de aprovação média de 79%. A projeção para o ano é de cerca de 3.3 pontos onde foi observada uma avaliação média de 4.4. Ou seja, de forma geral a expectativa foi superada, dado que as métricas reais são superiores as esperadas."
      ]
    },
    {
      "cell_type": "code",
      "metadata": {
        "id": "jD1PJPd9wfe-"
      },
      "source": [
        "# Define as configurações dos plots\n",
        "# Cada plot terá o mesmo tamanho de figuras (10,5)\n",
        "%matplotlib inline\n",
        "\n",
        "fig, (ax1, ax2, ax3, ax4) = plt.subplots(1, 4, figsize=(15,5))\n",
        "\n",
        "\n",
        "x1 = df[\"tx_aprov_07_6a9\"]\n",
        "x2 = df[\"nt_saeb_07_nmp\"]\n",
        "x3 = df[\"ideb_07_np\"]\n",
        "x4 = df[\"proj_07\"]\n",
        "\n",
        "\n",
        "# Dados para cada subplot\n",
        "ax1.hist(x1, density=True, bins=30,color='#3DB2F2')\n",
        "ax2.hist(x2, density=True, bins=30, color='#62A6F5')\n",
        "ax3.hist(x3, density=True, bins=30,color='#2A5EE0')\n",
        "ax4.hist(x4, density=True, bins=30, color='#2339F7')\n",
        "\n",
        "ax1.set(title=\"Taxa de Aprovação (2007)\", xlabel=\"Eixo x\", ylabel=\" Eixo y\")\n",
        "ax2.set(title=\"Notas SAEB (2007)\", xlabel=\"Eixo x\", ylabel=\" Eixo y\")\n",
        "ax3.set(title=\"IDEB (2007)\", xlabel=\"Eixo x\", ylabel=\" Eixo y\")\n",
        "ax4.set(title=\"Projeção (2007)\", xlabel=\"Eixo x\", ylabel=\" Eixo y\")"
      ],
      "execution_count": null,
      "outputs": []
    },
    {
      "cell_type": "markdown",
      "metadata": {
        "id": "qqz5wLSzdrLs"
      },
      "source": [
        "##**Ano 2009** "
      ]
    },
    {
      "cell_type": "code",
      "metadata": {
        "id": "cu6uZt_qUiHB"
      },
      "source": [
        "df_filter[[\"tx_aprov_09_6a9\", \"nt_saeb_09_nmp\", \"ideb_09_np\", \"proj_09\"]].describe()"
      ],
      "execution_count": null,
      "outputs": []
    },
    {
      "cell_type": "markdown",
      "metadata": {
        "id": "n0JvOeSheg3C"
      },
      "source": [
        "O Censo escolar no ano de 2009 apresenta taxa de aprovação média de 80%. A projeção para o ano é de cerca de 3.5 pontos onde foi observada uma avaliação média de 4.6. Ou seja, de forma geral a expectativa foi superada, dado que as métricas reais são superiores as esperadas."
      ]
    },
    {
      "cell_type": "code",
      "metadata": {
        "id": "cVwW5hwqj29Z"
      },
      "source": [
        "# Define as configurações dos plots\n",
        "# Cada plot terá o mesmo tamanho de figuras (10,5)\n",
        "%matplotlib inline\n",
        "\n",
        "fig, (ax1, ax2, ax3, ax4) = plt.subplots(1, 4, figsize=(15,5))\n",
        "\n",
        "\n",
        "x1 = df[\"tx_aprov_09_6a9\"]\n",
        "x2 = df[\"nt_saeb_09_nmp\"]\n",
        "x3 = df[\"ideb_09_np\"]\n",
        "x4 = df[\"proj_09\"]\n",
        "\n",
        "\n",
        "# Dados para cada subplot\n",
        "ax1.hist(x1, density=True, bins=30,color='#3DB2F2')\n",
        "ax2.hist(x2, density=True, bins=30, color='#62A6F5')\n",
        "ax3.hist(x3, density=True, bins=30,color='#2A5EE0')\n",
        "ax4.hist(x4, density=True, bins=30, color='#2339F7')\n",
        "\n",
        "ax1.set(title=\"Taxa de Aprovação (2009)\", xlabel=\"Eixo x\", ylabel=\" Eixo y\")\n",
        "ax2.set(title=\"Notas SAEB (2009)\", xlabel=\"Eixo x\", ylabel=\" Eixo y\")\n",
        "ax3.set(title=\"IDEB (2009)\", xlabel=\"Eixo x\", ylabel=\" Eixo y\")\n",
        "ax4.set(title=\"Projeção (2009)\", xlabel=\"Eixo x\", ylabel=\" Eixo y\")"
      ],
      "execution_count": null,
      "outputs": []
    },
    {
      "cell_type": "markdown",
      "metadata": {
        "id": "RjXePx35d4ex"
      },
      "source": [
        "##**Ano 2011** "
      ]
    },
    {
      "cell_type": "code",
      "metadata": {
        "id": "nXVN-ofhb1fS"
      },
      "source": [
        "df_filter[[\"tx_aprov_11_6a9\", \"nt_saeb_11_nmp\", \"ideb_11_np\", \"proj_11\"]].describe()"
      ],
      "execution_count": null,
      "outputs": []
    },
    {
      "cell_type": "markdown",
      "metadata": {
        "id": "cskG1wcAgIgz"
      },
      "source": [
        "O Censo escolar no ano de 2011 apresenta taxa de aprovação média de 82%, 2 pontos a mais que o censo anterior. A projeção para o ano é de cerca de 3.8 pontos onde foi observada uma avaliação média de 4.6. Ou seja, de forma geral a expectativa foi superada, dado que a maioria das métricas reais são superiores as esperadas."
      ]
    },
    {
      "cell_type": "code",
      "metadata": {
        "id": "TV3l-avimo3i"
      },
      "source": [
        "# Define as configurações dos plots\n",
        "# Cada plot terá o mesmo tamanho de figuras (10,5)\n",
        "%matplotlib inline\n",
        "\n",
        "fig, (ax1, ax2, ax3, ax4) = plt.subplots(1, 4, figsize=(15,5))\n",
        "\n",
        "\n",
        "x1 = df[\"tx_aprov_11_6a9\"]\n",
        "x2 = df[\"nt_saeb_11_nmp\"]\n",
        "x3 = df[\"ideb_11_np\"]\n",
        "x4 = df[\"proj_11\"]\n",
        "\n",
        "\n",
        "# Dados para cada subplot\n",
        "ax1.hist(x1, density=True, bins=30,color='#3DB2F2')\n",
        "ax2.hist(x2, density=True, bins=30, color='#62A6F5')\n",
        "ax3.hist(x3, density=True, bins=30,color='#2A5EE0')\n",
        "ax4.hist(x4, density=True, bins=30, color='#2339F7')\n",
        "\n",
        "ax1.set(title=\"Taxa de Aprovação (2011)\", xlabel=\"Eixo x\", ylabel=\" Eixo y\")\n",
        "ax2.set(title=\"Notas SAEB (2011)\", xlabel=\"Eixo x\", ylabel=\" Eixo y\")\n",
        "ax3.set(title=\"IDEB (2011)\", xlabel=\"Eixo x\", ylabel=\" Eixo y\")\n",
        "ax4.set(title=\"Projeção (2011)\", xlabel=\"Eixo x\", ylabel=\" Eixo y\")"
      ],
      "execution_count": null,
      "outputs": []
    },
    {
      "cell_type": "markdown",
      "metadata": {
        "id": "RhK8sZ6ed69K"
      },
      "source": [
        "##**Ano 2013** "
      ]
    },
    {
      "cell_type": "code",
      "metadata": {
        "id": "p2l4wQr-b8R9"
      },
      "source": [
        "df_filter[[\"tx_aprov_13_6a9\", \"nt_saeb_13_nmp\", \"ideb_13_np\", \"proj_13\"]].describe()"
      ],
      "execution_count": null,
      "outputs": []
    },
    {
      "cell_type": "markdown",
      "metadata": {
        "id": "owqYtdkIgflM"
      },
      "source": [
        "O Censo escolar no ano de 2013 apresenta taxa de aprovação média de 84%, 2 pontos a mais que o ano anterior. A projeção para o ano é de cerca de 4.1 pontos onde foi observada uma avaliação média de 4.6. Ou seja, de forma geral a expectativa foi superada, dado que as métricas reais são superiores as esperadas."
      ]
    },
    {
      "cell_type": "code",
      "metadata": {
        "id": "X5rdgnCDQFMr"
      },
      "source": [
        "# Define as configurações dos plots\n",
        "# Cada plot terá o mesmo tamanho de figuras (10,5)\n",
        "%matplotlib inline\n",
        "\n",
        "fig, (ax1, ax2, ax3, ax4) = plt.subplots(1, 4, figsize=(15,5))\n",
        "\n",
        "\n",
        "x1 = df[\"tx_aprov_13_6a9\"]\n",
        "x2 = df[\"nt_saeb_13_nmp\"]\n",
        "x3 = df[\"ideb_13_np\"]\n",
        "x4 = df[\"proj_13\"]\n",
        "\n",
        "\n",
        "# Dados para cada subplot\n",
        "ax1.hist(x1, density=True, bins=30,color='#3DB2F2')\n",
        "ax2.hist(x2, density=True, bins=30, color='#62A6F5')\n",
        "ax3.hist(x3, density=True, bins=30,color='#2A5EE0')\n",
        "ax4.hist(x4, density=True, bins=30, color='#2339F7')\n",
        "\n",
        "ax1.set(title=\"Taxa de Aprovação (2013)\", xlabel=\"Eixo x\", ylabel=\" Eixo y\")\n",
        "ax2.set(title=\"Notas SAEB (2013)\", xlabel=\"Eixo x\", ylabel=\" Eixo y\")\n",
        "ax3.set(title=\"IDEB (2013)\", xlabel=\"Eixo x\", ylabel=\" Eixo y\")\n",
        "ax4.set(title=\"Projeção (2013)\", xlabel=\"Eixo x\", ylabel=\" Eixo y\")"
      ],
      "execution_count": null,
      "outputs": []
    },
    {
      "cell_type": "markdown",
      "metadata": {
        "id": "qNhieF_qd9oM"
      },
      "source": [
        "##**Ano 2015** "
      ]
    },
    {
      "cell_type": "code",
      "metadata": {
        "id": "bTsbaKV9dQNy"
      },
      "source": [
        "df_filter[[\"tx_aprov_15_6a9\", \"nt_saeb_15_nmp\", \"ideb_15_np\", \"proj_15\"]].describe()"
      ],
      "execution_count": null,
      "outputs": []
    },
    {
      "cell_type": "markdown",
      "metadata": {
        "id": "BNFP1jlVg4QU"
      },
      "source": [
        "O Censo escolar no ano de 2015 apresenta taxa de aprovação média de 84%, taxa similar a do último censo realizado no ano de 2013. A projeção para o ano é de cerca de 4.4 pontos onde foi observada uma avaliação média de 4.9. Ou seja, de forma geral a expectativa foi superada, dado que maior parte das métricas reais são superiores as esperadas."
      ]
    },
    {
      "cell_type": "code",
      "metadata": {
        "id": "q73Fxe4ZQUdj"
      },
      "source": [
        "# Define as configurações dos plots\n",
        "# Cada plot terá o mesmo tamanho de figuras (10,5)\n",
        "%matplotlib inline\n",
        "\n",
        "fig, (ax1, ax2, ax3, ax4) = plt.subplots(1, 4, figsize=(15,5))\n",
        "\n",
        "\n",
        "x1 = df[\"tx_aprov_15_6a9\"]\n",
        "x2 = df[\"nt_saeb_15_nmp\"]\n",
        "x3 = df[\"ideb_15_np\"]\n",
        "x4 = df[\"proj_15\"]\n",
        "\n",
        "\n",
        "# Dados para cada subplot\n",
        "ax1.hist(x1, density=True, bins=30,color='#3DB2F2')\n",
        "ax2.hist(x2, density=True, bins=30, color='#62A6F5')\n",
        "ax3.hist(x3, density=True, bins=30,color='#2A5EE0')\n",
        "ax4.hist(x4, density=True, bins=30, color='#2339F7')\n",
        "\n",
        "ax1.set(title=\"Taxa de Aprovação (2015)\", xlabel=\"Eixo x\", ylabel=\" Eixo y\")\n",
        "ax2.set(title=\"Notas SAEB (2015)\", xlabel=\"Eixo x\", ylabel=\" Eixo y\")\n",
        "ax3.set(title=\"IDEB (2015)\", xlabel=\"Eixo x\", ylabel=\" Eixo y\")\n",
        "ax4.set(title=\"Projeção (2015)\", xlabel=\"Eixo x\", ylabel=\" Eixo y\")"
      ],
      "execution_count": null,
      "outputs": []
    },
    {
      "cell_type": "markdown",
      "metadata": {
        "id": "fIVYF7L9eAKs"
      },
      "source": [
        "##**Ano 2017** "
      ]
    },
    {
      "cell_type": "code",
      "metadata": {
        "id": "3j_KqTRhdZkQ"
      },
      "source": [
        "df_filter[[\"tx_aprov_17_6a9\", \"nt_saeb_17_nmp\", \"ideb_17_np\", \"proj_17\"]].describe()"
      ],
      "execution_count": null,
      "outputs": []
    },
    {
      "cell_type": "markdown",
      "metadata": {
        "id": "uxvoEM0phPIW"
      },
      "source": [
        "O Censo escolar no ano de 2017 apresenta taxa de aprovação média de 86%, apresenta 2 pontos a mais que o censo de 2015. A projeção para o ano é de cerca de 4.7 pontos onde foi observada uma avaliação média de 5.0. Ou seja, de forma geral a expectativa foi superada, dado que a maioria das métricas reais são superiores as esperadas."
      ]
    },
    {
      "cell_type": "code",
      "metadata": {
        "id": "-zumOiaOQeuC"
      },
      "source": [
        "# Define as configurações dos plots\n",
        "# Cada plot terá o mesmo tamanho de figuras (10,5)\n",
        "%matplotlib inline\n",
        "\n",
        "fig, (ax1, ax2, ax3, ax4) = plt.subplots(1, 4, figsize=(15,5))\n",
        "\n",
        "\n",
        "x1 = df[\"tx_aprov_17_6a9\"]\n",
        "x2 = df[\"nt_saeb_17_nmp\"]\n",
        "x3 = df[\"ideb_17_np\"]\n",
        "x4 = df[\"proj_17\"]\n",
        "\n",
        "\n",
        "# Dados para cada subplot\n",
        "ax1.hist(x1, density=True, bins=30,color='#3DB2F2')\n",
        "ax2.hist(x2, density=True, bins=30, color='#62A6F5')\n",
        "ax3.hist(x3, density=True, bins=30,color='#2A5EE0')\n",
        "ax4.hist(x4, density=True, bins=30, color='#2339F7')\n",
        "\n",
        "ax1.set(title=\"Taxa de Aprovação (2017)\", xlabel=\"Eixo x\", ylabel=\" Eixo y\")\n",
        "ax2.set(title=\"Notas SAEB (2017)\", xlabel=\"Eixo x\", ylabel=\" Eixo y\")\n",
        "ax3.set(title=\"IDEB (2017)\", xlabel=\"Eixo x\", ylabel=\" Eixo y\")\n",
        "ax4.set(title=\"Projeção (2017)\", xlabel=\"Eixo x\", ylabel=\" Eixo y\")"
      ],
      "execution_count": null,
      "outputs": []
    },
    {
      "cell_type": "markdown",
      "metadata": {
        "id": "wh9hP-c7eEh6"
      },
      "source": [
        "##**Ano 2019** "
      ]
    },
    {
      "cell_type": "code",
      "metadata": {
        "id": "_m5ATjJEdeht"
      },
      "source": [
        "df_filter[[\"tx_aprov_19_6a9\", \"nt_saeb_19_nmp\", \"ideb_19_np\", \"proj_19\"]].describe()"
      ],
      "execution_count": null,
      "outputs": []
    },
    {
      "cell_type": "markdown",
      "metadata": {
        "id": "iS6fE83DhpUq"
      },
      "source": [
        "O Censo escolar no ano de 2019 apresenta taxa de aprovação média de 88%, seguindo o padrão observado ao longo dos anos, houve um acréscimo de dois pontos na aprovação. A projeção para o ano é de cerca de 4.9 pontos onde foi observada uma avaliação média de 5.1. Ou seja, de forma geral a expectativa foi superada, dado que grande parte das métricas reais são superiores as esperadas."
      ]
    },
    {
      "cell_type": "code",
      "metadata": {
        "id": "NO4ASo0-QoeK"
      },
      "source": [
        "# Define as configurações dos plots\n",
        "# Cada plot terá o mesmo tamanho de figuras (10,5)\n",
        "%matplotlib inline\n",
        "\n",
        "fig, (ax1, ax2, ax3, ax4) = plt.subplots(1, 4, figsize=(15,5))\n",
        "\n",
        "\n",
        "x1 = df[\"tx_aprov_19_6a9\"]\n",
        "x2 = df[\"nt_saeb_19_nmp\"]\n",
        "x3 = df[\"ideb_19_np\"]\n",
        "x4 = df[\"proj_19\"]\n",
        "\n",
        "\n",
        "# Dados para cada subplot\n",
        "ax1.hist(x1, density=True, bins=30,color='#3DB2F2')\n",
        "ax2.hist(x2, density=True, bins=30, color='#62A6F5')\n",
        "ax3.hist(x3, density=True, bins=30,color='#2A5EE0')\n",
        "ax4.hist(x4, density=True, bins=30, color='#2339F7')\n",
        "\n",
        "ax1.set(title=\"Taxa de Aprovação (2019)\", xlabel=\"Eixo x\", ylabel=\" Eixo y\")\n",
        "ax2.set(title=\"Notas SAEB (2019)\", xlabel=\"Eixo x\", ylabel=\" Eixo y\")\n",
        "ax3.set(title=\"IDEB (2019)\", xlabel=\"Eixo x\", ylabel=\" Eixo y\")\n",
        "ax4.set(title=\"Projeção (2019)\", xlabel=\"Eixo x\", ylabel=\" Eixo y\")"
      ],
      "execution_count": null,
      "outputs": []
    },
    {
      "cell_type": "markdown",
      "metadata": {
        "id": "9F3jeZdeeHDM"
      },
      "source": [
        "##**Ano 2021** "
      ]
    },
    {
      "cell_type": "code",
      "metadata": {
        "id": "Om4L2nRUdkh5"
      },
      "source": [
        "df_filter[[\"proj_21\"]].describe()"
      ],
      "execution_count": null,
      "outputs": []
    },
    {
      "cell_type": "markdown",
      "metadata": {
        "id": "eLJihrYsiSSF"
      },
      "source": [
        "Para o ano de 2021, a projeção média das notas esperadas é de 5.13.  "
      ]
    },
    {
      "cell_type": "code",
      "metadata": {
        "id": "cx7EgFLKQ3A6"
      },
      "source": [
        "# Define as configurações dos plots\n",
        "# Cada plot terá o mesmo tamanho de figuras (10,5)\n",
        "%matplotlib inline\n",
        "\n",
        "fig, (ax4) = plt.subplots(1, 1, figsize=(15,5))\n",
        "\n",
        "\n",
        "x4 = df[\"proj_21\"]\n",
        "\n",
        "\n",
        "# Dados para cada subplot\n",
        "ax4.hist(x4, density=True, bins=30, color='#2339F7')\n",
        "\n",
        "ax4.set(title=\"Projeção (2021)\", xlabel=\"Eixo x\", ylabel=\" Eixo y\")"
      ],
      "execution_count": null,
      "outputs": []
    },
    {
      "cell_type": "markdown",
      "metadata": {
        "id": "r0BC1-Czimbk"
      },
      "source": [
        "Fazendo uma análise descritiva ao longo dos anos, observamos que apesar de sempre apresentar um leve acréscimo no valor médio das variáveis, não há grandes mudanças no comportamento comparando ano a ano. Observamos também que nenhuma escola obteve nota nas extremidades (0 ou 10) ao decorrer dos anos."
      ]
    },
    {
      "cell_type": "code",
      "metadata": {
        "id": "Hmyu4vImjheP"
      },
      "source": [
        ""
      ],
      "execution_count": null,
      "outputs": []
    }
  ]
}